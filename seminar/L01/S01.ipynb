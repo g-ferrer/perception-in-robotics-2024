{
 "cells": [
  {
   "attachments": {},
   "cell_type": "markdown",
   "metadata": {},
   "source": [
    "# I. Sample mean and sample covariance\n",
    "This task is to \n",
    "1. generate random one-dimensional normally distributed variables;\n",
    "2. draw distribution of generated samples;\n",
    "3. compute sample mean and sample covariance of generated data."
   ]
  },
  {
   "cell_type": "code",
   "execution_count": 1,
   "metadata": {},
   "outputs": [],
   "source": [
    "# Import libraries\n",
    "import numpy as np\n",
    "import matplotlib.pyplot as plt\n",
    "from scipy.stats import norm\n"
   ]
  },
  {
   "attachments": {},
   "cell_type": "markdown",
   "metadata": {},
   "source": [
    "## 1. Generate\n",
    "Generate a set of 10000 random one-dimensional normally distributed variables.   \n",
    "\n",
    "You may need to employ `np.random.randn(...)` .  \n",
    "You can use Sift+Tab in the end of typing function or `?` magic command before the function to check the usage pattern of a function."
   ]
  },
  {
   "cell_type": "code",
   "execution_count": null,
   "metadata": {},
   "outputs": [],
   "source": [
    "# Your code below"
   ]
  },
  {
   "attachments": {},
   "cell_type": "markdown",
   "metadata": {},
   "source": [
    "## 2. Observe\n",
    "Draw distribution of generated samples by `plt.hist(...)` .  \n",
    "40 - 100 bins is an optimal choice."
   ]
  },
  {
   "cell_type": "code",
   "execution_count": null,
   "metadata": {},
   "outputs": [],
   "source": [
    "# Your code below"
   ]
  },
  {
   "attachments": {},
   "cell_type": "markdown",
   "metadata": {},
   "source": [
    "## 3. Compute statistics\n",
    "Compute the sample mean and the sample covariance of the generated data."
   ]
  },
  {
   "cell_type": "code",
   "execution_count": null,
   "metadata": {},
   "outputs": [],
   "source": [
    "def sample_mean(dat):\n",
    "    # Your code below\n",
    "\n",
    "    return s_mean\n",
    "\n",
    "def smean_iscorrect(dat):\n",
    "    return np.isclose(sample_mean(dat), dat.mean(), rtol=1e-14)"
   ]
  },
  {
   "attachments": {},
   "cell_type": "markdown",
   "metadata": {},
   "source": [
    "Check correctness of your `sample_mean(...)`"
   ]
  },
  {
   "cell_type": "code",
   "execution_count": null,
   "metadata": {},
   "outputs": [],
   "source": [
    "sample_mean(dat_1d)"
   ]
  },
  {
   "cell_type": "code",
   "execution_count": null,
   "metadata": {},
   "outputs": [],
   "source": [
    "smean_iscorrect(dat_1d)"
   ]
  },
  {
   "cell_type": "code",
   "execution_count": null,
   "metadata": {},
   "outputs": [],
   "source": [
    "def sample_covariance(dat):\n",
    "    # Your code below\n",
    "    \n",
    "    return s_cov\n",
    "\n",
    "def scov_iscorrect(dat):\n",
    "    return np.isclose(sample_covariance(dat), np.cov(dat, bias=False), rtol=1e-14)"
   ]
  },
  {
   "cell_type": "code",
   "execution_count": null,
   "metadata": {},
   "outputs": [],
   "source": [
    "sample_covariance(dat_1d)"
   ]
  },
  {
   "cell_type": "code",
   "execution_count": null,
   "metadata": {},
   "outputs": [],
   "source": [
    "scov_iscorrect(dat_1d)"
   ]
  }
 ],
 "metadata": {
  "kernelspec": {
   "display_name": "aruco",
   "language": "python",
   "name": "python3"
  },
  "language_info": {
   "codemirror_mode": {
    "name": "ipython",
    "version": 3
   },
   "file_extension": ".py",
   "mimetype": "text/x-python",
   "name": "python",
   "nbconvert_exporter": "python",
   "pygments_lexer": "ipython3",
   "version": "3.10.6 (main, Oct 24 2022, 16:07:47) [GCC 11.2.0]"
  },
  "orig_nbformat": 4,
  "vscode": {
   "interpreter": {
    "hash": "815f23c7e134538287fa75783806fca39f21276c52058111af811b0613b54573"
   }
  }
 },
 "nbformat": 4,
 "nbformat_minor": 2
}
