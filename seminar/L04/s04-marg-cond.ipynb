{
 "cells": [
  {
   "cell_type": "code",
   "execution_count": 1,
   "metadata": {},
   "outputs": [],
   "source": [
    "import numpy as np\n",
    "import matplotlib.pyplot as plt\n",
    "\n",
    "from matplotlib.patches import Wedge"
   ]
  },
  {
   "cell_type": "markdown",
   "metadata": {},
   "source": [
    "## Task 1"
   ]
  },
  {
   "cell_type": "markdown",
   "metadata": {},
   "source": [
    "Suppose that the trajectory of a robot can be described by a vector $p_i=\\begin{bmatrix}{x}_i \\\\ {y}_i \\\\ \\theta_i\\end{bmatrix}$ which is a location of the robot $(x,y)$ and a sclar $\\theta_i$ which is its heading (in radians)."
   ]
  },
  {
   "cell_type": "markdown",
   "metadata": {},
   "source": [
    "<img src=\"heading.png\" width=\"480\" height=\"360\">"
   ]
  },
  {
   "cell_type": "markdown",
   "metadata": {},
   "source": [
    "# 1.1 Marginalization of orientation\n",
    "Let's assume we have the following Gussian distribution of the 2D pose $p$:\n",
    "\n",
    "$$ p(\\theta, x,y) = \\mathcal{N}(\\begin{bmatrix}x \\\\ y \\\\ \\theta\\end{bmatrix} ; \\begin{bmatrix}1 \\\\ 1 \\\\ 0.3 \\end{bmatrix}, \\begin{bmatrix}0.3 & 0 & 0.1 \\\\ 0 & 0.2 & 0.2 \\\\ 0.1 & 0.2 & 0.5  \\end{bmatrix} )$$\n",
    "\n",
    "\n",
    "The problem is to marginalize the position variables to obtained the distribution on the variable $\\theta$:\n",
    "\n",
    "$$p(\\theta) = \\int \\int p(\\theta, x,y) dx dy = \\mathcal{N}(\\theta; \\mu_{\\theta}, \\Sigma_{\\theta})$$"
   ]
  },
  {
   "cell_type": "code",
   "execution_count": 2,
   "metadata": {},
   "outputs": [],
   "source": [
    "cov = np.array([[0.3, 0, 0.1],\n",
    "                [0, 0.2, 0.2],\n",
    "                [0.1, 0.2, 0.5]])\n",
    "mean = np.array([[1, 1, 0.3]]).T"
   ]
  },
  {
   "cell_type": "code",
   "execution_count": 29,
   "metadata": {},
   "outputs": [],
   "source": [
    "# your code in here \n",
    "# mean = ...\n",
    "# cov = ..."
   ]
  },
  {
   "cell_type": "markdown",
   "metadata": {},
   "source": [
    "**1.2** Marginalize the variable $\\theta$\n",
    "Now, let's calculate the distribution $p(x,y) = \\int p(\\theta, x,y) d\\theta$"
   ]
  },
  {
   "cell_type": "code",
   "execution_count": 30,
   "metadata": {},
   "outputs": [],
   "source": [
    "# your code in here \n",
    "# mean = ...\n",
    "# cov = ..."
   ]
  },
  {
   "cell_type": "markdown",
   "metadata": {},
   "source": [
    "# 2 Conditioning\n",
    "Now, we have access to the position variables. Calculate the new conditioned distribution $p(\\theta | x,y)$ for $x=1.1$ and $y = 1.1$"
   ]
  },
  {
   "cell_type": "markdown",
   "metadata": {},
   "source": [
    "from class, we just apply the formula as is. $$p(x_a|x_b)=\\mathcal{N}(x_a; \\mu_a + \\Sigma_{ab}\\Sigma_b^{-1}(x_b - \\mu_b), \\Sigma_a - \\Sigma_{ab}\\Sigma_b^{-1}\\Sigma_{ba})$$"
   ]
  },
  {
   "cell_type": "code",
   "execution_count": 32,
   "metadata": {},
   "outputs": [
    {
     "name": "stdout",
     "output_type": "stream",
     "text": [
      "mean_theta 0.43333333333333346\n",
      "cov_theta  0.26666666666666666\n"
     ]
    }
   ],
   "source": [
    "# your code in here \n",
    "# mean_theta = ...\n",
    "# cov_theta =  ...\n",
    "\n",
    "print('mean_theta', mean_theta)\n",
    "print('cov_theta ', cov_theta)"
   ]
  },
  {
   "cell_type": "markdown",
   "metadata": {},
   "source": [
    "**2.2** Condition $p(x,y|\\theta)$, knowing that $\\theta = 0.4$"
   ]
  },
  {
   "cell_type": "code",
   "execution_count": 33,
   "metadata": {},
   "outputs": [
    {
     "name": "stdout",
     "output_type": "stream",
     "text": [
      "mean_xy 1.02\n",
      "cov_xy  0.27999999999999997\n"
     ]
    }
   ],
   "source": [
    "# your code in here \n",
    "# mean_xy = ...\n",
    "# mean_xy =  ...\n",
    "\n",
    "print('mean_xy', mean_xy)\n",
    "print('cov_xy ', cov_xy)"
   ]
  }
 ],
 "metadata": {
  "kernelspec": {
   "display_name": "Python 3",
   "language": "python",
   "name": "python3"
  },
  "language_info": {
   "codemirror_mode": {
    "name": "ipython",
    "version": 3
   },
   "file_extension": ".py",
   "mimetype": "text/x-python",
   "name": "python",
   "nbconvert_exporter": "python",
   "pygments_lexer": "ipython3",
   "version": "3.10.11"
  }
 },
 "nbformat": 4,
 "nbformat_minor": 4
}
