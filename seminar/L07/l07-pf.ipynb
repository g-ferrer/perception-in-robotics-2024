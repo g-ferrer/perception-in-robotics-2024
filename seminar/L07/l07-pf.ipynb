{
 "cells": [
  {
   "cell_type": "markdown",
   "metadata": {},
   "source": [
    "# Particle Filter\n",
    "## Task 1\n",
    "Create the Particle set of size $N=1000$ and with equal weights, given that $x\\sim \\mathcal{N}(0,1)$.\n",
    "\n",
    "Plot the histogram of values."
   ]
  },
  {
   "cell_type": "code",
   "execution_count": 1,
   "metadata": {},
   "outputs": [],
   "source": [
    "import numpy as np\n",
    "import matplotlib.pyplot as plt\n"
   ]
  },
  {
   "cell_type": "markdown",
   "metadata": {},
   "source": [
    "## Task 2\n",
    "Propagate the particle set, given the following 1d system: $y = (x+\\eta)^2$, where $\\eta\\sim\\mathcal{N}(0,2)$ and obtain $\\bar{\\text{bel}}(y)$"
   ]
  },
  {
   "cell_type": "code",
   "execution_count": null,
   "metadata": {},
   "outputs": [],
   "source": []
  },
  {
   "cell_type": "markdown",
   "metadata": {},
   "source": [
    "What can you say about this PDF?"
   ]
  },
  {
   "cell_type": "markdown",
   "metadata": {},
   "source": [
    "## Task 3\n",
    "Now, let's consider the observation function $h(y) = y$, the probablistic model for the likelihoos $p(z|y) = \\mathcal{N}(z;h(y),2^2)$ and the observation $z=5$. Calculate the new weighs of the particle set that represent the posterior belief $\\text{bel}(y)$"
   ]
  },
  {
   "cell_type": "code",
   "execution_count": 2,
   "metadata": {},
   "outputs": [],
   "source": [
    "from scipy.stats import norm\n"
   ]
  },
  {
   "cell_type": "markdown",
   "metadata": {},
   "source": [
    "Q: What is the mean of the new particle set? what does it mean?\n",
    "\n",
    "Q: How many particles have a small weight (<1e-3 for instance)? How can this be a problem?"
   ]
  }
 ],
 "metadata": {
  "kernelspec": {
   "display_name": "Python 3",
   "language": "python",
   "name": "python3"
  },
  "language_info": {
   "codemirror_mode": {
    "name": "ipython",
    "version": 3
   },
   "file_extension": ".py",
   "mimetype": "text/x-python",
   "name": "python",
   "nbconvert_exporter": "python",
   "pygments_lexer": "ipython3",
   "version": "3.8.10"
  }
 },
 "nbformat": 4,
 "nbformat_minor": 5
}
