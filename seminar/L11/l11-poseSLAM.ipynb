{
 "cells": [
  {
   "cell_type": "code",
   "execution_count": null,
   "metadata": {},
   "outputs": [],
   "source": [
    "import mrob\n",
    "import numpy as np"
   ]
  },
  {
   "cell_type": "markdown",
   "metadata": {},
   "source": [
    "# Graph SLAM, using a library\n",
    "in this seminar, we will show some of the functionalities of using a library for solving graphSLAM. [MROB: Mobile Robotics library](https://github.com/MobileRoboticsSkoltech/mrob) is a library for general use of perception techniques: FGraphs, Rigid Body Transformation and Point Cloud alignment.\n",
    "\n",
    "We will show two basic problems in 2D and discuss the \n",
    "\n",
    "Other interesting libraries to explore are g2o (Kumerle'2011) and GTSAM (Dellaert'2011)."
   ]
  },
  {
   "cell_type": "markdown",
   "metadata": {},
   "source": [
    "## 1 Creating a Graph\n",
    "We will start by creating a graph, and then add a node. You can get familiar by using help or from the examples in mrob (see github python_examples)"
   ]
  },
  {
   "cell_type": "code",
   "execution_count": null,
   "metadata": {},
   "outputs": [],
   "source": [
    "graph = mrob.FGraph()"
   ]
  },
  {
   "cell_type": "code",
   "execution_count": null,
   "metadata": {},
   "outputs": [],
   "source": [
    "with mrob.ostream_redirect(stdout=True, stderr=True):\n",
    "      graph.print()"
   ]
  },
  {
   "cell_type": "markdown",
   "metadata": {},
   "source": [
    "## 2. Add the first Node $x_0$\n",
    "We will add the first node to the Fgraph. Create a random initial state ($\\sigma = 0.1 $)and add it to the graph. For that, use the function add_node_pose_2d().\n",
    "\n",
    "Print your graph in simplified mode and in complete form."
   ]
  },
  {
   "cell_type": "code",
   "execution_count": null,
   "metadata": {},
   "outputs": [],
   "source": [
    "?graph.add_node_pose_2d"
   ]
  },
  {
   "cell_type": "code",
   "execution_count": null,
   "metadata": {},
   "outputs": [],
   "source": [
    "?graph.print\n",
    "with mrob.ostream_redirect(stdout=True, stderr=True):\n",
    "      graph.print(True)"
   ]
  },
  {
   "cell_type": "markdown",
   "metadata": {},
   "source": [
    "## 3. Add a factor to $x_0$\n",
    "Now that we have a node in the graph, we want to add the first observation. In this case it will be an anchor factor, assuming we are observing that the node is at $[0,0,0]$ with information $\\Sigma_{x_0}= 10^6 I$ "
   ]
  },
  {
   "cell_type": "code",
   "execution_count": null,
   "metadata": {},
   "outputs": [],
   "source": [
    "?graph.add_factor_1pose_2d\n",
    "\n",
    "with mrob.ostream_redirect(stdout=True, stderr=True):\n",
    "      graph.print(True)"
   ]
  },
  {
   "cell_type": "markdown",
   "metadata": {},
   "source": [
    "## 4. Analize the current error in the graph\n",
    "For this, use the function chi2, which evaluates the problem at the current point and calculates the current value of the residuals.\n",
    "\n",
    "You can also get the current state estimate by using the function get_estimated_state(). Print its current value."
   ]
  },
  {
   "cell_type": "code",
   "execution_count": null,
   "metadata": {},
   "outputs": [],
   "source": []
  },
  {
   "cell_type": "markdown",
   "metadata": {},
   "source": [
    "## 5. Solve\n",
    "We will use the Gauss Newton routine (default) with one iteration. For that, call the function solve() and reculate the current estimate and the error."
   ]
  },
  {
   "cell_type": "code",
   "execution_count": null,
   "metadata": {},
   "outputs": [],
   "source": [
    "with mrob.ostream_redirect(stdout=True, stderr=True):\n",
    "    \n",
    "    graph.print(True)"
   ]
  }
 ],
 "metadata": {
  "kernelspec": {
   "display_name": "Python 3",
   "language": "python",
   "name": "python3"
  },
  "language_info": {
   "codemirror_mode": {
    "name": "ipython",
    "version": 3
   },
   "file_extension": ".py",
   "mimetype": "text/x-python",
   "name": "python",
   "nbconvert_exporter": "python",
   "pygments_lexer": "ipython3",
   "version": "3.8.10"
  }
 },
 "nbformat": 4,
 "nbformat_minor": 4
}
