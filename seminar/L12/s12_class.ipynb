{
 "cells": [
  {
   "cell_type": "code",
   "execution_count": null,
   "metadata": {},
   "outputs": [],
   "source": [
    "import numpy as np\n",
    "import matplotlib.pyplot as plt\n",
    "\n",
    "# for utils\n",
    "import scipy\n",
    "from scipy.spatial.transform import Rotation as Rot"
   ]
  },
  {
   "cell_type": "code",
   "execution_count": null,
   "metadata": {},
   "outputs": [],
   "source": [
    "# utils\n",
    "def plot_poses(Trs, enum=False):\n",
    "    xs = []\n",
    "    ys = []\n",
    "    plt.plot(0, 0, marker='o', markersize=20, c='r', linestyle='None', label='Origin')\n",
    "    for index, Tr in enumerate(Trs):\n",
    "        x = Tr[0,2]\n",
    "        y = Tr[1,2]\n",
    "        R3 = np.eye(3)\n",
    "        R3[:2,:2] = Tr[:2,:2]\n",
    "        t = Rot.from_matrix(R3).as_rotvec()[2]\n",
    "        \n",
    "        plt.plot(x, y, marker=(3, 0, 180*t/np.pi-90), markersize=20, linestyle='None')\n",
    "        plt.plot(x, y, marker=(2, 0, 180*t/np.pi-90), markersize=30, linestyle='None')\n",
    "        if enum:\n",
    "            plt.text(x, y, index, size=20)\n",
    "        xs.append(x)\n",
    "        ys.append(y)\n",
    "    plt.plot(xs, ys)    \n",
    "    plt.legend()\n",
    "    plt.axis('equal')\n",
    "    plt.grid()\n",
    "    \n",
    "def gTl_is_correct():\n",
    "    x_ = np.random.randn(3)\n",
    "    x_[2] = np.clip(x_[2], -np.pi/2.1, +np.pi/2.1)\n",
    "    res = gTl(x_)\n",
    "    assert res.shape == (3,3), \"T must be 3x3 matrix\"\n",
    "    \n",
    "    mat = np.eye(3); mat[0,2] = x_[0]; mat[1,2] = x_[1]\n",
    "    if 'as_matrix' in dir(Rot):\n",
    "        mat[:2,:2] = Rot.from_rotvec([0,0,x_[2]]).as_matrix()[:2,:2]\n",
    "    else:\n",
    "        mat[:2,:2] = Rot.from_rotvec([0,0,x_[2]]).as_dcm()[:2,:2]\n",
    "    return np.linalg.norm(np.linalg.inv(mat) @ res - np.eye(3)) < 1e-14"
   ]
  },
  {
   "cell_type": "markdown",
   "metadata": {},
   "source": [
    "# I. RBT in 2D\n",
    "\n",
    "There are three major uses for a transformation matrix $T$.  \n",
    "\n",
    "__Use (a): to represent the configuration (position and orientation) of a rigid body;__\n",
    "\n",
    "__Use (b): to change the reference frame in which a vector is represented;__\n",
    "\n",
    "__Use (c): to transform a reference frame.__  \n",
    "\n",
    "\n",
    "Suppose, the origin of a robot (= origin of robot's ref. frame) is located in the point $(x,y)$ of a global frame   \n",
    "and robot's frame is rotated by angle $\\theta$:\n",
    "\n",
    "<img src=\"./global_local.png\">\n",
    "\n",
    "Its pose (pose = position + orientation) can be represented by the vector $$\\mathrm x = \\begin{bmatrix} x\\\\y\\\\ \\theta \\end{bmatrix}$$\n",
    "\n",
    "or by the transformation matrix:\n",
    "$$^gT_l(\\mathrm x)$$\n",
    "\n",
    "_Here $^gT_l$ means that local frame is described wrt. global frame_"
   ]
  },
  {
   "cell_type": "markdown",
   "metadata": {},
   "source": [
    "### Task 1.A (already solved for you)\n",
    "Code the function that from a XYT pose generates a RBT matrix."
   ]
  },
  {
   "cell_type": "code",
   "execution_count": null,
   "metadata": {},
   "outputs": [],
   "source": [
    "# T(x)\n",
    "# use numpy only\n",
    "def gTl(state):\n",
    "    def c(t):\n",
    "        return np.cos(t)\n",
    "    def s(t):\n",
    "        return np.sin(t)\n",
    "    x, y, t = state\n",
    "    return np.array([\n",
    "        [c(t), -s(t), x],\n",
    "        [s(t), c(t), y],\n",
    "        [0, 0, 1]\n",
    "    ])"
   ]
  },
  {
   "cell_type": "code",
   "execution_count": null,
   "metadata": {},
   "outputs": [],
   "source": [
    "# Check out\n",
    "gTl_is_correct()"
   ]
  },
  {
   "cell_type": "code",
   "execution_count": null,
   "metadata": {},
   "outputs": [],
   "source": [
    "# Robot at the origin of global frame\n",
    "x = [0,0,0]\n",
    "T_origin = gTl(x)\n",
    "T_origin"
   ]
  },
  {
   "cell_type": "code",
   "execution_count": null,
   "metadata": {},
   "outputs": [],
   "source": [
    "# plot\n",
    "Ts = [T_origin]\n",
    "plot_poses(Ts)"
   ]
  },
  {
   "cell_type": "code",
   "execution_count": null,
   "metadata": {},
   "outputs": [],
   "source": [
    "# Purely rotated robot\n",
    "x = [0,0,np.pi/6]\n",
    "# your code"
   ]
  },
  {
   "cell_type": "code",
   "execution_count": null,
   "metadata": {},
   "outputs": [],
   "source": [
    "# plot\n",
    "Ts = [T_rot]\n",
    "plot_poses(Ts)"
   ]
  },
  {
   "cell_type": "code",
   "execution_count": null,
   "metadata": {},
   "outputs": [],
   "source": [
    "# Purely translated robot\n",
    "x = [5,4,0]\n",
    "#your code"
   ]
  },
  {
   "cell_type": "code",
   "execution_count": null,
   "metadata": {},
   "outputs": [],
   "source": [
    "# plot\n",
    "Ts = [T_transl]\n",
    "plot_poses(Ts)"
   ]
  },
  {
   "cell_type": "markdown",
   "metadata": {},
   "source": [
    "<br/>\n",
    "<br/>\n",
    "<br/>\n",
    "\n",
    "__Use (b): to change the reference frame in which a vector or frame is represented;__  \n",
    "\n",
    "Suppose, the robot observes some landmark $p$ in position $^lp = \\begin{bmatrix} ^l x \\\\ ^l y \\\\ 1 \\end{bmatrix}$ of __robot's__ frame.  \n",
    "The robot must send global coordinates $^gp$ of $p$ to computational module that process global coordinates of landmarks and plots a map of landmarks. \n",
    "<img src=\"./vector.png\">\n",
    "\n",
    "### Task 1.B.\n",
    "\n",
    "Write down the formula to get $^gp$ with known $^lp$ and robot's pose $^gT_l$.  \n",
    "Provide numerical result for given $^lp$ and $^gT_l$."
   ]
  },
  {
   "cell_type": "code",
   "execution_count": null,
   "metadata": {},
   "outputs": [],
   "source": [
    "# Given data\n",
    "lp = [1.0, 1.3, 1]\n",
    "T = gTl([0.4, 0.5, 1.2])\n",
    "\n",
    "# code"
   ]
  },
  {
   "cell_type": "markdown",
   "metadata": {},
   "source": [
    "__Use (c): to transform a reference frame.__  \n",
    "\n",
    "Suppose, the robot has current pose $^gT_a$ wrt. global frame.  \n",
    "Then the robot updates its pose by $^aT_b$ and the updated state is $^gT_b$.\n",
    "<img src=\"./delta.png\">\n",
    "\n",
    "### Task 1.C.\n",
    "Obtain $^gT_b$ given pose $a$ and transformation from $a$ to $b$."
   ]
  },
  {
   "cell_type": "code",
   "execution_count": null,
   "metadata": {},
   "outputs": [],
   "source": [
    "state_a = [0.3,0.5,0]\n",
    "atob = [0.3, -0.4, -np.pi/6]"
   ]
  },
  {
   "cell_type": "code",
   "execution_count": null,
   "metadata": {},
   "outputs": [],
   "source": [
    "gTa = gTl(state_a)\n",
    "gTa"
   ]
  },
  {
   "cell_type": "code",
   "execution_count": null,
   "metadata": {},
   "outputs": [],
   "source": [
    "# plot\n",
    "Ts = [gTa]\n",
    "plot_poses(Ts)"
   ]
  },
  {
   "cell_type": "code",
   "execution_count": null,
   "metadata": {},
   "outputs": [],
   "source": [
    "# your code\n",
    "aTb = ...\n",
    "aTb"
   ]
  },
  {
   "cell_type": "code",
   "execution_count": null,
   "metadata": {},
   "outputs": [],
   "source": [
    "# your code\n",
    "gTb = ...\n",
    "gTb"
   ]
  },
  {
   "cell_type": "code",
   "execution_count": null,
   "metadata": {},
   "outputs": [],
   "source": [
    "# plot\n",
    "Ts = [gTa, gTb]\n",
    "plot_poses(Ts)"
   ]
  },
  {
   "cell_type": "code",
   "execution_count": null,
   "metadata": {},
   "outputs": [],
   "source": []
  },
  {
   "cell_type": "markdown",
   "metadata": {},
   "source": [
    "## On the inverse of a RBT (optional)\n",
    "\n",
    "Sometimes there is need to describe global frame wrt. local frame.  \n",
    "Imagine robot computing the way back home that is located in the origin of global frame.  \n",
    "\n",
    "<img src=\"./inverse.png\">\n",
    "\n",
    "This can be simply done by inverse transformation $$^lT_g = (^gT_l)^{-1}.$$\n",
    "\n",
    "### Task 2.\n",
    "This is a theoretical task. Obtain and write down the inverse transformation.\n",
    "Use the internal structure of the transformation matrix:\n",
    "$$^gT_l = \\begin{bmatrix} R & t \\\\ 0^\\top & 1 \\end{bmatrix},$$\n",
    "where the rotation matrix $R$ and displacement $t$ are known.\n",
    "\n",
    "_Trick: better to:_\n",
    "- do block multiplication of $^gT_l \\, ^lT_g  = I$:\n",
    "$$\\begin{bmatrix} R & t \\\\ 0^\\top & 1 \\end{bmatrix} \\cdot \\begin{bmatrix} M & a \\\\ 0^\\top & 1 \\end{bmatrix} = I$$\n",
    "- express unknown $M$ and $a$ through $R$ and $t$\n",
    "- assemble $T^{-1}$ by $M$ and $a$\n",
    "\n",
    "__$^gT_l^{-1}(R,t)$ must not have any matrix inverse inside!__"
   ]
  },
  {
   "cell_type": "markdown",
   "metadata": {},
   "source": [
    "1.\n",
    "\n",
    "$\\begin{bmatrix} R & t \\\\ 0^\\top & 1 \\end{bmatrix} \\cdot \\begin{bmatrix} M & a \\\\ 0^\\top & 1 \\end{bmatrix} = $"
   ]
  },
  {
   "cell_type": "markdown",
   "metadata": {},
   "source": [
    "$\\begin{bmatrix} RM + t \\cdot 0^\\top & Ra + t\\cdot1 \\\\ 0^\\top M + 1 \\cdot 0^\\top & 0^\\top a + 1 \\cdot 1 \\end{bmatrix} = $"
   ]
  },
  {
   "cell_type": "markdown",
   "metadata": {},
   "source": [
    "$\\begin{bmatrix} RM & Ra + t \\\\ 0^\\top & 1 \\end{bmatrix} = I$"
   ]
  },
  {
   "cell_type": "markdown",
   "metadata": {},
   "source": [
    "2. \n",
    "$RM = ?$"
   ]
  },
  {
   "cell_type": "markdown",
   "metadata": {},
   "source": [
    "$RM = I_{2x2}$"
   ]
  },
  {
   "cell_type": "markdown",
   "metadata": {},
   "source": [
    "$Ra + t = ?$"
   ]
  },
  {
   "cell_type": "markdown",
   "metadata": {},
   "source": [
    "$Ra + t = 0$"
   ]
  },
  {
   "cell_type": "markdown",
   "metadata": {},
   "source": [
    "$M = R^{-1} = R^\\top$"
   ]
  },
  {
   "cell_type": "markdown",
   "metadata": {},
   "source": [
    "$Ra = - t$\n",
    "\n",
    "$R^{-1}Ra = - R^{-1}t$"
   ]
  },
  {
   "cell_type": "markdown",
   "metadata": {},
   "source": [
    "$a = - R^\\top t$"
   ]
  },
  {
   "cell_type": "markdown",
   "metadata": {},
   "source": [
    "__Answer__\n",
    "$$^lT_g = (^gT_l)^{-1} = \\begin{bmatrix} R^\\top & - R^\\top t \\\\ 0^\\top & 1 \\end{bmatrix}.$$"
   ]
  },
  {
   "cell_type": "markdown",
   "metadata": {},
   "source": [
    "# II. RBT in 3D"
   ]
  },
  {
   "cell_type": "code",
   "execution_count": null,
   "metadata": {},
   "outputs": [],
   "source": [
    "import mrob\n",
    "import numpy as np\n",
    "import matplotlib.pyplot as plt\n",
    "from mpl_toolkits.mplot3d import Axes3D"
   ]
  },
  {
   "cell_type": "markdown",
   "metadata": {},
   "source": [
    "## Plot preparations: "
   ]
  },
  {
   "cell_type": "code",
   "execution_count": null,
   "metadata": {},
   "outputs": [],
   "source": [
    "def plotConfig():\n",
    "    \"configfures the 3d plot structure for representing tranformations\"\n",
    "    fig = plt.figure()\n",
    "    ax = fig.add_subplot(111, projection='3d')\n",
    "    return ax\n",
    "    \n",
    "def plotT(T, ax):\n",
    "    \"Plots a 3 axis frame in the origin given the mrob SE3 transformation, right-hand convention\"\n",
    "    # transform 3 axis to the coordinate system\n",
    "    x = np.zeros((4,3))\n",
    "    x[0,:] = T.transform(np.array([0,0,0], dtype='float64'))\n",
    "    x[1,:] = T.transform(np.array([1,0,0], dtype='float64'))\n",
    "    ax.plot(x[[0,1],0],x[[0,1],1],x[[0,1],2],'r') # X axis\n",
    "    x[2,:] = T.transform(np.array([0,1,0], dtype='float64'))\n",
    "    ax.plot(x[[0,2],0],x[[0,2],1],x[[0,2],2],'g') # Y axis\n",
    "    x[3,:] = T.transform(np.array([0,0,1], dtype='float64'))\n",
    "    ax.plot(x[[0,3],0],x[[0,3],1],x[[0,3],2],'b') # Z axis\n",
    "    plt.xlabel('x')\n",
    "    plt.ylabel('y')"
   ]
  },
  {
   "cell_type": "markdown",
   "metadata": {},
   "source": [
    "## Create rotation vector and map: \n",
    "$$\\Large \\mathbb{R}^3 \\to SO(3)$$\n",
    "We will use the Exponent map (call by the constructor SO3), from a random 3D vector. Check the norm."
   ]
  },
  {
   "cell_type": "code",
   "execution_count": null,
   "metadata": {},
   "outputs": [],
   "source": [
    "rotation_angles = np.random.rand(3)\n",
    "print(rotation_angles)\n",
    "R = mrob.geometry.SO3(rotation_angles)\n",
    "# Just in case you are using an old version of the library\n",
    "#with mrob.ostream_redirect(stdout=True, stderr=True):\n",
    "R"
   ]
  },
  {
   "cell_type": "markdown",
   "metadata": {},
   "source": [
    "### Properties:Check inverse"
   ]
  },
  {
   "cell_type": "code",
   "execution_count": null,
   "metadata": {},
   "outputs": [],
   "source": [
    "# your code from np. The np array is at R.R()"
   ]
  },
  {
   "cell_type": "code",
   "execution_count": null,
   "metadata": {},
   "outputs": [],
   "source": [
    "R.inv()"
   ]
  },
  {
   "cell_type": "markdown",
   "metadata": {},
   "source": [
    "## Relation to Rotations in 2D embeded in 3D"
   ]
  },
  {
   "cell_type": "code",
   "execution_count": null,
   "metadata": {},
   "outputs": [],
   "source": [
    "angle = 0.2\n",
    "rotation_angles = np.array([0,0,angle])\n",
    "print(rotation_angles)\n",
    "R = ...\n",
    "print('Rotation: \\n', R)\n",
    "# From previous function\n",
    "xyt = np.array([0,0,angle])\n",
    "T = ...\n",
    "print(T[:2,:2])"
   ]
  },
  {
   "cell_type": "markdown",
   "metadata": {},
   "source": [
    "## Logarithm\n",
    "$$\\Large SO(3)\\to \\mathbb{R}^3$$\n",
    "The second operation is the logarithm .Ln(), check that the mapping provides a vector"
   ]
  },
  {
   "cell_type": "code",
   "execution_count": null,
   "metadata": {},
   "outputs": [],
   "source": [
    "theta = R.Ln()\n",
    "print(theta)"
   ]
  },
  {
   "cell_type": "markdown",
   "metadata": {},
   "source": [
    "## Create translation vector and build RBT matrix: \n",
    "$$\\Large \\begin{equation*}\n",
    "T = \n",
    "\\begin{bmatrix}\n",
    "R & t \\\\\n",
    "0 & 1\n",
    "\\end{bmatrix}\n",
    "\\end{equation*}$$"
   ]
  },
  {
   "cell_type": "code",
   "execution_count": null,
   "metadata": {},
   "outputs": [],
   "source": [
    "translation_vector = np.array([5, 5, 0])\n",
    "T = mrob.geometry.SE3(R,translation_vector)\n",
    "print(T)\n",
    "ax = plotConfig()\n",
    "plotT(T, ax)\n",
    "plt.title('Rotation from bare-hands')\n",
    "plt.show()"
   ]
  },
  {
   "cell_type": "markdown",
   "metadata": {},
   "source": [
    "## Create rotation + translation vector\n",
    "$$\\Large \\begin{equation*}\n",
    "\\xi = \n",
    "\\begin{bmatrix}\n",
    "\\theta_1 \\\\\n",
    "\\theta_2 \\\\\n",
    "\\theta_3 \\\\\n",
    "\\rho_1 \\\\\n",
    "\\rho_2 \\\\\n",
    "\\rho_3\n",
    "\\end{bmatrix}\n",
    "\\end{equation*}$$"
   ]
  },
  {
   "cell_type": "markdown",
   "metadata": {},
   "source": [
    "### Create RBT matrix, i.e. this mapping:\n",
    "$$\\Large \\rm I\\!R^6 \\rightarrow \\rm SE(3)$$\n",
    "### Inside the .SE3() method, this formula is applied:\n",
    "$$\\Large T = Exp(\\xi)$$"
   ]
  },
  {
   "cell_type": "code",
   "execution_count": null,
   "metadata": {},
   "outputs": [],
   "source": [
    "T1 = mrob.geometry.SE3(np.concatenate([rotation_angles, translation_vector]))\n",
    "T1"
   ]
  },
  {
   "cell_type": "markdown",
   "metadata": {},
   "source": [
    "### We see, that the translation in T2 doesn't exactly correspond to translation_vector."
   ]
  },
  {
   "cell_type": "markdown",
   "metadata": {},
   "source": [
    "### RBT composition\n",
    "Multiply two RBT and see the result. You can compare with the method multiply from the SE3 objects. Check out the order."
   ]
  },
  {
   "cell_type": "code",
   "execution_count": null,
   "metadata": {},
   "outputs": [],
   "source": [
    "T1 = mrob.geometry.SE3(mrob.geometry.SO3(np.array([0,0,0.15])), np.array([5,0,0]))\n",
    "print(T1)\n",
    "T2 = mrob.geometry.SE3(mrob.geometry.SO3(np.array([0,0,0.25])), np.array([2,3,0]))\n",
    "print(T2)\n",
    "# code"
   ]
  },
  {
   "cell_type": "markdown",
   "metadata": {},
   "source": [
    "## 2.B Distances between Rotations and RBT\n",
    "Calculate the distance between two rotations by:\n",
    " * Calculating directly by the equation $d(R_1,R_2) = Log(R_1 * R_2^{\\top})$\n",
    " * Calculate the ditance with the function .distance()"
   ]
  },
  {
   "cell_type": "code",
   "execution_count": null,
   "metadata": {},
   "outputs": [],
   "source": [
    "R1 = mrob.geometry.SO3(np.array([0,0,-0.2]))\n",
    "R2 = mrob.geometry.SO3(np.array([0,0,0.3]))\n",
    "print(R1)\n",
    "print(R2)"
   ]
  },
  {
   "cell_type": "code",
   "execution_count": null,
   "metadata": {},
   "outputs": [],
   "source": [
    "# your code"
   ]
  },
  {
   "cell_type": "code",
   "execution_count": null,
   "metadata": {},
   "outputs": [],
   "source": [
    "# your code"
   ]
  }
 ],
 "metadata": {
  "kernelspec": {
   "display_name": "Python 3",
   "language": "python",
   "name": "python3"
  },
  "language_info": {
   "codemirror_mode": {
    "name": "ipython",
    "version": 3
   },
   "file_extension": ".py",
   "mimetype": "text/x-python",
   "name": "python",
   "nbconvert_exporter": "python",
   "pygments_lexer": "ipython3",
   "version": "3.8.10"
  }
 },
 "nbformat": 4,
 "nbformat_minor": 4
}
